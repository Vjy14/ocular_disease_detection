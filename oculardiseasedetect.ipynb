{
  "nbformat": 4,
  "nbformat_minor": 0,
  "metadata": {
    "colab": {
      "provenance": [],
      "gpuType": "T4"
    },
    "kernelspec": {
      "name": "python3",
      "display_name": "Python 3"
    },
    "language_info": {
      "name": "python"
    },
    "accelerator": "GPU"
  },
  "cells": [
    {
      "cell_type": "code",
      "execution_count": null,
      "metadata": {
        "id": "C4HahIFtooCb"
      },
      "outputs": [],
      "source": [
        "import tensorflow as tf\n",
        "from tensorflow.keras.preprocessing.image import ImageDataGenerator\n",
        "from tensorflow.keras.applications import ResNet50\n",
        "from tensorflow.keras import layers, models\n",
        "import matplotlib.pyplot as plt\n",
        "import numpy as np\n",
        "import os\n",
        "import PIL\n",
        "import tensorflow as tf\n",
        "from tensorflow import keras\n",
        "from tensorflow.keras import layers\n",
        "from tensorflow.python.keras.layers import Dense, Flatten\n",
        "from tensorflow.keras.models import Sequential\n",
        "from tensorflow.keras.optimizers import Adam\n",
        "\n",
        "train_dir = '/content/drive/MyDrive/mudiyala/train'\n",
        "test_dir = '/content/drive/MyDrive/mudiyala/test'\n",
        "\n",
        "img_size = (224, 224)\n",
        "batch_size = 32\n",
        "\n",
        "train_datagen = ImageDataGenerator(\n",
        "    rescale=1./255,\n",
        "    shear_range=0.2,\n",
        "    zoom_range=0.2,\n",
        "    horizontal_flip=True\n",
        ")"
      ]
    },
    {
      "cell_type": "code",
      "source": [
        "test_datagen = ImageDataGenerator(rescale=1./255)"
      ],
      "metadata": {
        "id": "T0BdWmJzxckp"
      },
      "execution_count": null,
      "outputs": []
    },
    {
      "cell_type": "code",
      "source": [
        "train_generator = train_datagen.flow_from_directory(\n",
        "    train_dir,\n",
        "    target_size=img_size,\n",
        "    batch_size=batch_size,\n",
        "    class_mode='categorical'\n",
        ")\n",
        "\n",
        "test_generator = test_datagen.flow_from_directory(\n",
        "    test_dir,\n",
        "    target_size=img_size,\n",
        "    batch_size=batch_size,\n",
        "    class_mode='categorical'\n",
        ")"
      ],
      "metadata": {
        "colab": {
          "base_uri": "https://localhost:8080/"
        },
        "id": "Bs_4FBWRxmMI",
        "outputId": "9ad18959-66c9-4b56-9a5e-bafea7b8d0ff"
      },
      "execution_count": null,
      "outputs": [
        {
          "output_type": "stream",
          "name": "stdout",
          "text": [
            "Found 1443 images belonging to 4 classes.\n",
            "Found 108 images belonging to 4 classes.\n"
          ]
        }
      ]
    },
    {
      "cell_type": "code",
      "source": [
        "base_model_tf = ResNet50(weights='imagenet', include_top=False, input_shape=(224, 224, 3),classes=4)"
      ],
      "metadata": {
        "id": "oLtVX2-MxqhX"
      },
      "execution_count": null,
      "outputs": []
    },
    {
      "cell_type": "code",
      "source": [
        "base_model_tf.compile(optimizer='adam', loss='categorical_crossentropy', metrics=['accuracy'])"
      ],
      "metadata": {
        "id": "ta0Bobq0xtQ4"
      },
      "execution_count": null,
      "outputs": []
    },
    {
      "cell_type": "code",
      "source": [
        "import tensorflow\n",
        "from tensorflow import keras\n",
        "from keras.models import Sequential,load_model,Model\n",
        "from keras.layers import Conv2D,MaxPool2D,AveragePooling2D,Dense,Flatten,ZeroPadding2D,BatchNormalization,Activation,Add,Input,Dropout,GlobalAveragePooling2D\n",
        "from keras.optimizers import SGD\n",
        "from keras.initializers import glorot_uniform\n",
        "from keras.preprocessing.image import ImageDataGenerator\n",
        "from keras.callbacks import ModelCheckpoint,EarlyStopping,ReduceLROnPlateau"
      ],
      "metadata": {
        "id": "KAbXd-p3xv-o"
      },
      "execution_count": null,
      "outputs": []
    },
    {
      "cell_type": "code",
      "source": [
        "from tensorflow.keras.applications import ResNet50\n",
        "from tensorflow.keras.applications.resnet50 import preprocess_input"
      ],
      "metadata": {
        "id": "S4VICxHBxycY"
      },
      "execution_count": null,
      "outputs": []
    },
    {
      "cell_type": "code",
      "source": [
        "base_model_tf.trainable=False\n",
        "\n",
        "pt=Input(shape=(224,224,3))\n",
        "func=tensorflow.cast(pt,tensorflow.float32)\n",
        "x=preprocess_input(func) #This function used to zero-center each color channel wrt Imagenet dataset\n",
        "model_resnet=base_model_tf(x,training=False)\n",
        "model_resnet=GlobalAveragePooling2D()(model_resnet)\n",
        "model_resnet=Dense(128,activation='relu')(model_resnet)\n",
        "model_resnet=Dense(64,activation='relu')(model_resnet)\n",
        "model_resnet=Dense(4,activation='softmax')(model_resnet)\n",
        "\n",
        "\n",
        "model_main=Model(inputs=pt,outputs=model_resnet)\n",
        "model_main.summary()"
      ],
      "metadata": {
        "colab": {
          "base_uri": "https://localhost:8080/"
        },
        "id": "6ziGGs-Ix0vo",
        "outputId": "832b67c8-ffe5-425e-e69e-c7b8ef76a975"
      },
      "execution_count": null,
      "outputs": [
        {
          "output_type": "stream",
          "name": "stdout",
          "text": [
            "Model: \"model_1\"\n",
            "_________________________________________________________________\n",
            " Layer (type)                Output Shape              Param #   \n",
            "=================================================================\n",
            " input_5 (InputLayer)        [(None, 224, 224, 3)]     0         \n",
            "                                                                 \n",
            " tf.cast_1 (TFOpLambda)      (None, 224, 224, 3)       0         \n",
            "                                                                 \n",
            " tf.__operators__.getitem_1  (None, 224, 224, 3)       0         \n",
            "  (SlicingOpLambda)                                              \n",
            "                                                                 \n",
            " tf.nn.bias_add_1 (TFOpLamb  (None, 224, 224, 3)       0         \n",
            " da)                                                             \n",
            "                                                                 \n",
            " resnet50 (Functional)       (None, 7, 7, 2048)        23587712  \n",
            "                                                                 \n",
            " global_average_pooling2d_1  (None, 2048)              0         \n",
            "  (GlobalAveragePooling2D)                                       \n",
            "                                                                 \n",
            " dense_3 (Dense)             (None, 128)               262272    \n",
            "                                                                 \n",
            " dense_4 (Dense)             (None, 64)                8256      \n",
            "                                                                 \n",
            " dense_5 (Dense)             (None, 4)                 260       \n",
            "                                                                 \n",
            "=================================================================\n",
            "Total params: 23858500 (91.01 MB)\n",
            "Trainable params: 270788 (1.03 MB)\n",
            "Non-trainable params: 23587712 (89.98 MB)\n",
            "_________________________________________________________________\n"
          ]
        }
      ]
    },
    {
      "cell_type": "code",
      "source": [
        "train_generator = train_datagen.flow_from_directory(\n",
        "    train_dir,\n",
        "    target_size=img_size,\n",
        "    batch_size=batch_size,\n",
        "    class_mode='categorical'\n",
        ")\n",
        "\n",
        "test_generator = test_datagen.flow_from_directory(\n",
        "    test_dir,\n",
        "    target_size=img_size,\n",
        "    batch_size=batch_size,\n",
        "    class_mode='categorical'\n",
        ")"
      ],
      "metadata": {
        "colab": {
          "base_uri": "https://localhost:8080/"
        },
        "id": "wNUqFFFox3gY",
        "outputId": "366ff355-1a90-43a7-8ac2-36c185b5adee"
      },
      "execution_count": null,
      "outputs": [
        {
          "output_type": "stream",
          "name": "stdout",
          "text": [
            "Found 1443 images belonging to 4 classes.\n",
            "Found 108 images belonging to 4 classes.\n"
          ]
        }
      ]
    },
    {
      "cell_type": "code",
      "source": [
        "model_main.compile(optimizer='Adam',loss='categorical_crossentropy',metrics=['accuracy'])"
      ],
      "metadata": {
        "id": "FBVtFZ0xx6rY"
      },
      "execution_count": null,
      "outputs": []
    },
    {
      "cell_type": "code",
      "source": [
        "model_main.fit(\n",
        "    train_generator,\n",
        "    steps_per_epoch=train_generator.samples // batch_size,\n",
        "    epochs=75,\n",
        "    validation_data=test_generator,\n",
        "    validation_steps=test_generator.samples // batch_size\n",
        ")"
      ],
      "metadata": {
        "colab": {
          "base_uri": "https://localhost:8080/"
        },
        "id": "qOe_P4_Vx-AY",
        "outputId": "f0dfe979-66ad-4376-cb84-16cbb3ceee2e"
      },
      "execution_count": null,
      "outputs": [
        {
          "output_type": "stream",
          "name": "stdout",
          "text": [
            "Epoch 1/75\n",
            "45/45 [==============================] - 27s 586ms/step - loss: 1.3269 - accuracy: 0.3770 - val_loss: 1.3675 - val_accuracy: 0.3229\n",
            "Epoch 2/75\n",
            "45/45 [==============================] - 24s 523ms/step - loss: 1.3298 - accuracy: 0.3664 - val_loss: 1.3835 - val_accuracy: 0.3021\n",
            "Epoch 3/75\n",
            "45/45 [==============================] - 24s 535ms/step - loss: 1.3088 - accuracy: 0.3735 - val_loss: 1.3008 - val_accuracy: 0.4167\n",
            "Epoch 4/75\n",
            "45/45 [==============================] - 25s 567ms/step - loss: 1.3099 - accuracy: 0.3877 - val_loss: 1.3236 - val_accuracy: 0.4167\n",
            "Epoch 5/75\n",
            "45/45 [==============================] - 23s 515ms/step - loss: 1.2835 - accuracy: 0.4295 - val_loss: 1.3107 - val_accuracy: 0.4688\n",
            "Epoch 6/75\n",
            "45/45 [==============================] - 23s 516ms/step - loss: 1.2964 - accuracy: 0.4146 - val_loss: 1.3055 - val_accuracy: 0.3646\n",
            "Epoch 7/75\n",
            "45/45 [==============================] - 24s 536ms/step - loss: 1.2721 - accuracy: 0.4259 - val_loss: 1.2949 - val_accuracy: 0.4062\n",
            "Epoch 8/75\n",
            "45/45 [==============================] - 24s 534ms/step - loss: 1.2847 - accuracy: 0.4337 - val_loss: 1.2865 - val_accuracy: 0.4479\n",
            "Epoch 9/75\n",
            "45/45 [==============================] - 25s 544ms/step - loss: 1.2721 - accuracy: 0.4422 - val_loss: 1.2830 - val_accuracy: 0.4792\n",
            "Epoch 10/75\n",
            "45/45 [==============================] - 24s 528ms/step - loss: 1.2313 - accuracy: 0.4678 - val_loss: 1.2662 - val_accuracy: 0.4792\n",
            "Epoch 11/75\n",
            "45/45 [==============================] - 25s 553ms/step - loss: 1.2456 - accuracy: 0.4571 - val_loss: 1.3697 - val_accuracy: 0.3438\n",
            "Epoch 12/75\n",
            "45/45 [==============================] - 25s 552ms/step - loss: 1.2502 - accuracy: 0.4522 - val_loss: 1.2558 - val_accuracy: 0.4583\n",
            "Epoch 13/75\n",
            "45/45 [==============================] - 24s 522ms/step - loss: 1.2237 - accuracy: 0.4848 - val_loss: 1.3038 - val_accuracy: 0.4271\n",
            "Epoch 14/75\n",
            "45/45 [==============================] - 26s 580ms/step - loss: 1.2422 - accuracy: 0.4607 - val_loss: 1.4716 - val_accuracy: 0.3125\n",
            "Epoch 15/75\n",
            "45/45 [==============================] - 23s 516ms/step - loss: 1.2181 - accuracy: 0.4841 - val_loss: 1.2715 - val_accuracy: 0.4583\n",
            "Epoch 16/75\n",
            "45/45 [==============================] - 26s 569ms/step - loss: 1.2290 - accuracy: 0.4685 - val_loss: 1.2990 - val_accuracy: 0.4167\n",
            "Epoch 17/75\n",
            "45/45 [==============================] - 23s 515ms/step - loss: 1.1825 - accuracy: 0.5004 - val_loss: 1.2648 - val_accuracy: 0.4479\n",
            "Epoch 18/75\n",
            "45/45 [==============================] - 26s 579ms/step - loss: 1.1981 - accuracy: 0.4940 - val_loss: 1.3365 - val_accuracy: 0.3854\n",
            "Epoch 19/75\n",
            "45/45 [==============================] - 24s 528ms/step - loss: 1.1542 - accuracy: 0.5223 - val_loss: 1.3122 - val_accuracy: 0.4479\n",
            "Epoch 20/75\n",
            "45/45 [==============================] - 26s 568ms/step - loss: 1.1320 - accuracy: 0.5301 - val_loss: 1.5834 - val_accuracy: 0.3333\n",
            "Epoch 21/75\n",
            "45/45 [==============================] - 24s 528ms/step - loss: 1.1917 - accuracy: 0.4692 - val_loss: 1.4290 - val_accuracy: 0.3750\n",
            "Epoch 22/75\n",
            "45/45 [==============================] - 24s 529ms/step - loss: 1.1648 - accuracy: 0.5042 - val_loss: 1.3690 - val_accuracy: 0.3958\n",
            "Epoch 23/75\n",
            "45/45 [==============================] - 26s 575ms/step - loss: 1.1504 - accuracy: 0.5266 - val_loss: 1.1959 - val_accuracy: 0.5104\n",
            "Epoch 24/75\n",
            "45/45 [==============================] - 23s 514ms/step - loss: 1.1078 - accuracy: 0.5478 - val_loss: 1.2435 - val_accuracy: 0.4896\n",
            "Epoch 25/75\n",
            "45/45 [==============================] - 23s 517ms/step - loss: 1.0939 - accuracy: 0.5471 - val_loss: 1.3732 - val_accuracy: 0.3854\n",
            "Epoch 26/75\n",
            "45/45 [==============================] - 26s 571ms/step - loss: 1.1151 - accuracy: 0.5337 - val_loss: 1.3730 - val_accuracy: 0.4062\n",
            "Epoch 27/75\n",
            "45/45 [==============================] - 24s 543ms/step - loss: 1.0991 - accuracy: 0.5415 - val_loss: 1.2316 - val_accuracy: 0.5000\n",
            "Epoch 28/75\n",
            "45/45 [==============================] - 24s 530ms/step - loss: 1.0906 - accuracy: 0.5443 - val_loss: 1.4136 - val_accuracy: 0.4062\n",
            "Epoch 29/75\n",
            "45/45 [==============================] - 25s 567ms/step - loss: 1.0925 - accuracy: 0.5422 - val_loss: 1.8768 - val_accuracy: 0.2917\n",
            "Epoch 30/75\n",
            "45/45 [==============================] - 24s 529ms/step - loss: 1.1821 - accuracy: 0.4862 - val_loss: 1.2427 - val_accuracy: 0.4479\n",
            "Epoch 31/75\n",
            "45/45 [==============================] - 26s 582ms/step - loss: 1.1268 - accuracy: 0.5245 - val_loss: 1.1914 - val_accuracy: 0.5312\n",
            "Epoch 32/75\n",
            "45/45 [==============================] - 24s 528ms/step - loss: 1.0630 - accuracy: 0.5648 - val_loss: 1.2065 - val_accuracy: 0.5104\n",
            "Epoch 33/75\n",
            "45/45 [==============================] - 26s 570ms/step - loss: 1.0686 - accuracy: 0.5656 - val_loss: 1.1898 - val_accuracy: 0.4896\n",
            "Epoch 34/75\n",
            "45/45 [==============================] - 24s 531ms/step - loss: 1.0625 - accuracy: 0.5648 - val_loss: 1.1222 - val_accuracy: 0.5417\n",
            "Epoch 35/75\n",
            "45/45 [==============================] - 23s 512ms/step - loss: 1.0689 - accuracy: 0.5606 - val_loss: 1.2253 - val_accuracy: 0.5104\n",
            "Epoch 36/75\n",
            "45/45 [==============================] - 25s 576ms/step - loss: 1.0629 - accuracy: 0.5549 - val_loss: 1.1147 - val_accuracy: 0.5729\n",
            "Epoch 37/75\n",
            "45/45 [==============================] - 24s 532ms/step - loss: 1.0351 - accuracy: 0.5719 - val_loss: 1.2161 - val_accuracy: 0.5104\n",
            "Epoch 38/75\n",
            "45/45 [==============================] - 25s 557ms/step - loss: 1.0295 - accuracy: 0.5790 - val_loss: 1.2998 - val_accuracy: 0.4583\n",
            "Epoch 39/75\n",
            "45/45 [==============================] - 24s 530ms/step - loss: 1.0438 - accuracy: 0.5663 - val_loss: 1.1738 - val_accuracy: 0.4583\n",
            "Epoch 40/75\n",
            "45/45 [==============================] - 25s 556ms/step - loss: 1.0585 - accuracy: 0.5634 - val_loss: 1.1301 - val_accuracy: 0.5312\n",
            "Epoch 41/75\n",
            "45/45 [==============================] - 24s 524ms/step - loss: 1.0585 - accuracy: 0.5542 - val_loss: 1.2339 - val_accuracy: 0.4896\n",
            "Epoch 42/75\n",
            "45/45 [==============================] - 26s 583ms/step - loss: 1.0304 - accuracy: 0.5698 - val_loss: 1.2042 - val_accuracy: 0.5208\n",
            "Epoch 43/75\n",
            "45/45 [==============================] - 24s 546ms/step - loss: 1.0612 - accuracy: 0.5535 - val_loss: 1.1894 - val_accuracy: 0.4896\n",
            "Epoch 44/75\n",
            "45/45 [==============================] - 25s 550ms/step - loss: 1.0396 - accuracy: 0.5648 - val_loss: 1.1414 - val_accuracy: 0.5208\n",
            "Epoch 45/75\n",
            "45/45 [==============================] - 25s 549ms/step - loss: 1.0258 - accuracy: 0.5755 - val_loss: 1.6603 - val_accuracy: 0.3958\n",
            "Epoch 46/75\n",
            "45/45 [==============================] - 24s 528ms/step - loss: 1.0511 - accuracy: 0.5597 - val_loss: 1.1804 - val_accuracy: 0.5312\n",
            "Epoch 47/75\n",
            "45/45 [==============================] - 25s 567ms/step - loss: 1.0376 - accuracy: 0.5670 - val_loss: 1.2748 - val_accuracy: 0.5208\n",
            "Epoch 48/75\n",
            "45/45 [==============================] - 23s 509ms/step - loss: 1.0177 - accuracy: 0.5776 - val_loss: 1.2299 - val_accuracy: 0.5208\n",
            "Epoch 49/75\n",
            "45/45 [==============================] - 24s 527ms/step - loss: 1.0415 - accuracy: 0.5571 - val_loss: 1.1655 - val_accuracy: 0.5208\n",
            "Epoch 50/75\n",
            "45/45 [==============================] - 24s 537ms/step - loss: 1.0411 - accuracy: 0.5670 - val_loss: 1.1231 - val_accuracy: 0.5417\n",
            "Epoch 51/75\n",
            "45/45 [==============================] - 24s 526ms/step - loss: 1.0396 - accuracy: 0.5641 - val_loss: 1.1645 - val_accuracy: 0.5312\n",
            "Epoch 52/75\n",
            "45/45 [==============================] - 26s 574ms/step - loss: 0.9890 - accuracy: 0.5918 - val_loss: 1.2461 - val_accuracy: 0.5312\n",
            "Epoch 53/75\n",
            "45/45 [==============================] - 23s 518ms/step - loss: 1.0065 - accuracy: 0.5840 - val_loss: 1.1668 - val_accuracy: 0.5104\n",
            "Epoch 54/75\n",
            "45/45 [==============================] - 26s 583ms/step - loss: 1.0133 - accuracy: 0.5712 - val_loss: 1.2393 - val_accuracy: 0.4688\n",
            "Epoch 55/75\n",
            "45/45 [==============================] - 23s 512ms/step - loss: 1.0332 - accuracy: 0.5755 - val_loss: 1.1760 - val_accuracy: 0.5208\n",
            "Epoch 56/75\n",
            "45/45 [==============================] - 26s 583ms/step - loss: 1.0136 - accuracy: 0.5826 - val_loss: 1.1661 - val_accuracy: 0.5208\n",
            "Epoch 57/75\n",
            "45/45 [==============================] - 24s 531ms/step - loss: 1.0122 - accuracy: 0.5762 - val_loss: 1.0732 - val_accuracy: 0.5312\n",
            "Epoch 58/75\n",
            "45/45 [==============================] - 25s 550ms/step - loss: 1.0472 - accuracy: 0.5592 - val_loss: 1.2779 - val_accuracy: 0.4792\n",
            "Epoch 59/75\n",
            "45/45 [==============================] - 25s 546ms/step - loss: 1.0475 - accuracy: 0.5712 - val_loss: 1.1288 - val_accuracy: 0.5417\n",
            "Epoch 60/75\n",
            "45/45 [==============================] - 23s 519ms/step - loss: 0.9992 - accuracy: 0.5889 - val_loss: 1.1662 - val_accuracy: 0.5417\n",
            "Epoch 61/75\n",
            "45/45 [==============================] - 24s 532ms/step - loss: 1.0031 - accuracy: 0.5826 - val_loss: 1.1265 - val_accuracy: 0.5312\n",
            "Epoch 62/75\n",
            "45/45 [==============================] - 25s 546ms/step - loss: 1.0439 - accuracy: 0.5698 - val_loss: 1.1051 - val_accuracy: 0.5208\n",
            "Epoch 63/75\n",
            "45/45 [==============================] - 24s 534ms/step - loss: 0.9844 - accuracy: 0.5847 - val_loss: 1.2112 - val_accuracy: 0.5104\n",
            "Epoch 64/75\n",
            "45/45 [==============================] - 24s 534ms/step - loss: 0.9972 - accuracy: 0.5741 - val_loss: 1.4430 - val_accuracy: 0.4583\n",
            "Epoch 65/75\n",
            "45/45 [==============================] - 25s 539ms/step - loss: 0.9768 - accuracy: 0.5854 - val_loss: 1.1230 - val_accuracy: 0.5729\n",
            "Epoch 66/75\n",
            "45/45 [==============================] - 25s 556ms/step - loss: 0.9757 - accuracy: 0.6081 - val_loss: 1.1194 - val_accuracy: 0.5312\n",
            "Epoch 67/75\n",
            "45/45 [==============================] - 24s 517ms/step - loss: 0.9965 - accuracy: 0.5847 - val_loss: 1.3412 - val_accuracy: 0.4271\n",
            "Epoch 68/75\n",
            "45/45 [==============================] - 26s 577ms/step - loss: 1.0152 - accuracy: 0.5663 - val_loss: 1.1704 - val_accuracy: 0.5312\n",
            "Epoch 69/75\n",
            "45/45 [==============================] - 23s 512ms/step - loss: 0.9741 - accuracy: 0.5946 - val_loss: 1.1838 - val_accuracy: 0.5208\n",
            "Epoch 70/75\n",
            "45/45 [==============================] - 23s 514ms/step - loss: 0.9959 - accuracy: 0.5861 - val_loss: 1.1374 - val_accuracy: 0.5208\n",
            "Epoch 71/75\n",
            "45/45 [==============================] - 25s 552ms/step - loss: 1.0212 - accuracy: 0.5840 - val_loss: 1.1412 - val_accuracy: 0.5521\n",
            "Epoch 72/75\n",
            "45/45 [==============================] - 24s 536ms/step - loss: 0.9677 - accuracy: 0.6031 - val_loss: 1.1452 - val_accuracy: 0.5104\n",
            "Epoch 73/75\n",
            "45/45 [==============================] - 23s 513ms/step - loss: 1.0351 - accuracy: 0.5606 - val_loss: 1.1294 - val_accuracy: 0.5104\n",
            "Epoch 74/75\n",
            "45/45 [==============================] - 25s 566ms/step - loss: 0.9863 - accuracy: 0.5804 - val_loss: 1.1150 - val_accuracy: 0.5208\n",
            "Epoch 75/75\n",
            "45/45 [==============================] - 24s 524ms/step - loss: 0.9646 - accuracy: 0.5939 - val_loss: 1.1941 - val_accuracy: 0.5104\n"
          ]
        },
        {
          "output_type": "execute_result",
          "data": {
            "text/plain": [
              "<keras.src.callbacks.History at 0x7b3210ef61a0>"
            ]
          },
          "metadata": {},
          "execution_count": 31
        }
      ]
    },
    {
      "cell_type": "code",
      "source": [
        "accuracy =model_main.evaluate(test_generator)\n",
        "print(f'Test accuracy: {accuracy[1]*va:.2f}%')"
      ],
      "metadata": {
        "colab": {
          "base_uri": "https://localhost:8080/"
        },
        "id": "2IJd-yuGyDXn",
        "outputId": "5246d8cf-049e-4c11-8d08-cc4ca1f10360"
      },
      "execution_count": 68,
      "outputs": [
        {
          "output_type": "stream",
          "name": "stdout",
          "text": [
            "4/4 [==============================] - 1s 110ms/step - loss: 1.2003 - accuracy: 0.5093\n",
            "Test accuracy: 66.20%\n"
          ]
        }
      ]
    },
    {
      "cell_type": "code",
      "source": [
        "model_main.save('new_eye_disease_detection_model.h5')"
      ],
      "metadata": {
        "id": "7wPsY1vZ33gS"
      },
      "execution_count": 65,
      "outputs": []
    },
    {
      "cell_type": "code",
      "source": [
        "from tensorflow.keras.preprocessing import image\n",
        "import numpy as np\n",
        "\n",
        "model = tf.keras.models.load_model('new_eye_disease_detection_model.h5')\n",
        "\n",
        "test_image_path = '/content/g2.jpg'\n",
        "img = image.load_img(test_image_path, target_size=(224, 224))\n",
        "img_array = image.img_to_array(img)\n",
        "img_array = np.expand_dims(img_array, axis=0)\n",
        "img_array /= 255.0\n",
        "\n",
        "\n",
        "predictions = model.predict(img_array)\n",
        "\n",
        "class_labels = ['Normal','Uveitis','Glaucoma','Cataract']\n",
        "predicted_class = class_labels[np.argmax(predictions)]\n",
        "\n",
        "print(f'The predicted class is: {predicted_class}')"
      ],
      "metadata": {
        "colab": {
          "base_uri": "https://localhost:8080/"
        },
        "id": "tJdEjHEm3zsr",
        "outputId": "ade34b4e-e0aa-4e13-9662-94a83f6ef465"
      },
      "execution_count": 66,
      "outputs": [
        {
          "output_type": "stream",
          "name": "stdout",
          "text": [
            "1/1 [==============================] - 1s 1s/step\n",
            "The predicted class is: Normal\n"
          ]
        }
      ]
    }
  ]
}